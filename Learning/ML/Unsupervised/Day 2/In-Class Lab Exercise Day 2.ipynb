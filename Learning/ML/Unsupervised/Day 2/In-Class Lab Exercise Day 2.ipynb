{
 "cells": [
  {
   "cell_type": "markdown",
   "metadata": {},
   "source": [
    "<table align=\"center\" width=100%>\n",
    "    <tr>\n",
    "        <td width=\"15%\">\n",
    "            <img src=\"in_class.png\">\n",
    "        </td>\n",
    "        <td>\n",
    "            <div align=\"center\">\n",
    "                <font color=\"#21618C\" size=8px>\n",
    "                    <b> Inclass-Lab  <br>(Day 2)\n",
    "                    </b>\n",
    "                </font>\n",
    "            </div>\n",
    "        </td>\n",
    "    </tr>\n",
    "</table>"
   ]
  },
  {
   "cell_type": "markdown",
   "metadata": {},
   "source": [
    "### About the dataset (CO<sub>2</sub> emission data)\n",
    "\n",
    "In the dataset, the CO<sub>2</sub> emission for various regions in the world is given. Our objective is to group the regions based on the factors affecting the environment in terms of the greenhouse gases, where CO<sub>2</sub> is a primary greenhouse gas. \n",
    "\n",
    "Many developing and developed countries in the world are contributing to the CO<sub>2</sub> emission in the environment. It is interesting to know that the increase in atmospheric carbon dioxide is responsible for about two-thirds of the total energy imbalance that is causing Earth's temperature to rise and leads to global warming.\n",
    "\n",
    "**Region**: Region of the country\n",
    "\n",
    "**CO2 Emission**: Annual CO<sub>2</sub> emission (in tonnes)\n",
    "\n",
    "**Ease of Business**: The ease of business in the country\n",
    "\n",
    "**Energy Usage**: Energy used by the country in various forms\n",
    "\n",
    "**GDP**: GDP of a country\n",
    "\n",
    "**Internet Usage**: Usage of the internet \n",
    "\n",
    "**Population total**: Total population of a country"
   ]
  },
  {
   "cell_type": "markdown",
   "metadata": {},
   "source": [
    "## Table of Content\n",
    "\n",
    "1. **[Exploratory Data Analysis](#lib)**\n",
    "2. **[Hierarchical Clustering](#hie)**\n",
    "3. **[DBSCAN](#DBSCAN)**"
   ]
  },
  {
   "cell_type": "markdown",
   "metadata": {},
   "source": [
    "#### Import the required libraries"
   ]
  },
  {
   "cell_type": "code",
   "execution_count": 5,
   "metadata": {},
   "outputs": [],
   "source": [
    "# write your code here\n",
    "\n",
    "import pandas as pd\n",
    "import matplotlib.pyplot as plt\n",
    "import seaborn as sns"
   ]
  },
  {
   "cell_type": "markdown",
   "metadata": {},
   "source": [
    "#### Read the data\n",
    "\n",
    "Load the csv file and print the first five observations."
   ]
  },
  {
   "cell_type": "code",
   "execution_count": 2,
   "metadata": {},
   "outputs": [
    {
     "data": {
      "text/html": [
       "<div>\n",
       "<style scoped>\n",
       "    .dataframe tbody tr th:only-of-type {\n",
       "        vertical-align: middle;\n",
       "    }\n",
       "\n",
       "    .dataframe tbody tr th {\n",
       "        vertical-align: top;\n",
       "    }\n",
       "\n",
       "    .dataframe thead th {\n",
       "        text-align: right;\n",
       "    }\n",
       "</style>\n",
       "<table border=\"1\" class=\"dataframe\">\n",
       "  <thead>\n",
       "    <tr style=\"text-align: right;\">\n",
       "      <th></th>\n",
       "      <th>Region</th>\n",
       "      <th>CO2 Emissions</th>\n",
       "      <th>Ease of Business</th>\n",
       "      <th>Energy Usage</th>\n",
       "      <th>GDP</th>\n",
       "      <th>Internet Usage</th>\n",
       "      <th>Population Total</th>\n",
       "    </tr>\n",
       "  </thead>\n",
       "  <tbody>\n",
       "    <tr>\n",
       "      <th>0</th>\n",
       "      <td>Europe</td>\n",
       "      <td>4294</td>\n",
       "      <td>151</td>\n",
       "      <td>1976</td>\n",
       "      <td>5.652325e+09</td>\n",
       "      <td>0.010</td>\n",
       "      <td>3033659</td>\n",
       "    </tr>\n",
       "    <tr>\n",
       "      <th>1</th>\n",
       "      <td>Europe</td>\n",
       "      <td>4166</td>\n",
       "      <td>151</td>\n",
       "      <td>2172</td>\n",
       "      <td>7.464447e+09</td>\n",
       "      <td>0.024</td>\n",
       "      <td>3014579</td>\n",
       "    </tr>\n",
       "    <tr>\n",
       "      <th>2</th>\n",
       "      <td>Europe</td>\n",
       "      <td>4254</td>\n",
       "      <td>151</td>\n",
       "      <td>2172</td>\n",
       "      <td>8.376484e+09</td>\n",
       "      <td>0.060</td>\n",
       "      <td>2992724</td>\n",
       "    </tr>\n",
       "    <tr>\n",
       "      <th>3</th>\n",
       "      <td>Europe</td>\n",
       "      <td>3865</td>\n",
       "      <td>151</td>\n",
       "      <td>2068</td>\n",
       "      <td>9.132562e+09</td>\n",
       "      <td>0.096</td>\n",
       "      <td>2968028</td>\n",
       "    </tr>\n",
       "    <tr>\n",
       "      <th>4</th>\n",
       "      <td>Europe</td>\n",
       "      <td>4056</td>\n",
       "      <td>151</td>\n",
       "      <td>2025</td>\n",
       "      <td>1.070101e+10</td>\n",
       "      <td>0.150</td>\n",
       "      <td>2940880</td>\n",
       "    </tr>\n",
       "  </tbody>\n",
       "</table>\n",
       "</div>"
      ],
      "text/plain": [
       "   Region  CO2 Emissions  Ease of Business  Energy Usage           GDP  \\\n",
       "0  Europe           4294               151          1976  5.652325e+09   \n",
       "1  Europe           4166               151          2172  7.464447e+09   \n",
       "2  Europe           4254               151          2172  8.376484e+09   \n",
       "3  Europe           3865               151          2068  9.132562e+09   \n",
       "4  Europe           4056               151          2025  1.070101e+10   \n",
       "\n",
       "   Internet Usage  Population Total  \n",
       "0           0.010           3033659  \n",
       "1           0.024           3014579  \n",
       "2           0.060           2992724  \n",
       "3           0.096           2968028  \n",
       "4           0.150           2940880  "
      ]
     },
     "execution_count": 2,
     "metadata": {},
     "output_type": "execute_result"
    }
   ],
   "source": [
    "# write your code here\n",
    "\n",
    "df = pd.read_csv(\"CO2_emission_data.csv\")\n",
    "\n",
    "df.head()"
   ]
  },
  {
   "cell_type": "markdown",
   "metadata": {},
   "source": [
    "\n",
    "### Let's begin with some hands-on practice exercises"
   ]
  },
  {
   "cell_type": "markdown",
   "metadata": {},
   "source": [
    "<a id=\"lib\"> </a>\n",
    "## 1. Exploratory Data Analysis"
   ]
  },
  {
   "cell_type": "markdown",
   "metadata": {},
   "source": [
    "<table align=\"left\">\n",
    "    <tr>\n",
    "        <td width=\"6%\">\n",
    "            <img src=\"question_icon.png\">\n",
    "        </td>\n",
    "        <td>\n",
    "            <div align=\"left\", style=\"font-size:120%\">\n",
    "                <font color=\"#21618C\">\n",
    "                    <b>1. Identify the different regions to which the countries belong and visualize the count of countries.</b>\n",
    "                </font>\n",
    "            </div>\n",
    "        </td>\n",
    "    </tr>\n",
    "</table>"
   ]
  },
  {
   "cell_type": "code",
   "execution_count": 7,
   "metadata": {},
   "outputs": [
    {
     "name": "stderr",
     "output_type": "stream",
     "text": [
      "C:\\Users\\spice\\AppData\\Local\\Temp\\ipykernel_14136\\713544975.py:6: FutureWarning: \n",
      "\n",
      "Passing `palette` without assigning `hue` is deprecated and will be removed in v0.14.0. Assign the `x` variable to `hue` and set `legend=False` for the same effect.\n",
      "\n",
      "  sns.barplot(x=region_counts.index, y=region_counts.values, palette=\"Set2\")\n"
     ]
    },
    {
     "data": {
      "image/png": "[encoded data removed]",
      "text/plain": [
       "<Figure size 600x400 with 1 Axes>"
      ]
     },
     "metadata": {},
     "output_type": "display_data"
    }
   ],
   "source": [
    "# write your code here\n",
    "region_counts = df['Region'].value_counts()\n",
    "\n",
    "# Visualize\n",
    "plt.figure(figsize=(6, 4))\n",
    "sns.barplot(x=region_counts.index, y=region_counts.values, palette=\"Set2\")\n",
    "plt.title('Number of Countries per Region')\n",
    "plt.xlabel('Region')\n",
    "plt.ylabel('Count of Countries')\n",
    "plt.xticks(rotation=45)\n",
    "plt.tight_layout()\n",
    "plt.show()"
   ]
  },
  {
   "cell_type": "markdown",
   "metadata": {},
   "source": [
    "<table align=\"left\">\n",
    "    <tr>\n",
    "        <td width=\"6%\">\n",
    "            <img src=\"question_icon.png\">\n",
    "        </td>\n",
    "        <td>\n",
    "            <div align=\"left\", style=\"font-size:120%\">\n",
    "                <font color=\"#21618C\">\n",
    "                    <b>2. Check the datatype, dimension and summary statistics of the data.</b>\n",
    "                </font>\n",
    "            </div>\n",
    "        </td>\n",
    "    </tr>\n",
    "</table>"
   ]
  },
  {
   "cell_type": "code",
   "execution_count": 8,
   "metadata": {},
   "outputs": [
    {
     "name": "stdout",
     "output_type": "stream",
     "text": [
      "Data Types:\n",
      " Region               object\n",
      "CO2 Emissions         int64\n",
      "Ease of Business      int64\n",
      "Energy Usage          int64\n",
      "GDP                 float64\n",
      "Internet Usage      float64\n",
      "Population Total      int64\n",
      "dtype: object\n",
      "\n",
      "Dimensions: (1243, 7)\n",
      "\n",
      "Summary Statistics:\n",
      "         Region  CO2 Emissions  Ease of Business  Energy Usage           GDP  \\\n",
      "count     1243   1.243000e+03       1243.000000  1.243000e+03  1.243000e+03   \n",
      "unique       6            NaN               NaN           NaN           NaN   \n",
      "top     Europe            NaN               NaN           NaN           NaN   \n",
      "freq       302            NaN               NaN           NaN           NaN   \n",
      "mean       NaN   1.897666e+05         88.279968  7.541842e+04  3.535548e+11   \n",
      "std        NaN   7.697027e+05         52.770388  2.707586e+05  1.358970e+12   \n",
      "min        NaN   4.800000e+01          1.000000  3.000000e+01  1.232585e+08   \n",
      "25%        NaN   3.111500e+03         45.000000  2.721000e+03  7.746581e+09   \n",
      "50%        NaN   1.620800e+04         85.000000  9.318000e+03  2.468037e+10   \n",
      "75%        NaN   7.581200e+04        131.000000  3.495650e+04  1.770000e+11   \n",
      "max        NaN   8.286892e+06        186.000000  2.727728e+06  1.620000e+13   \n",
      "\n",
      "        Internet Usage  Population Total  \n",
      "count      1236.000000      1.243000e+03  \n",
      "unique             NaN               NaN  \n",
      "top                NaN               NaN  \n",
      "freq               NaN               NaN  \n",
      "mean          0.329983      4.513494e+07  \n",
      "std           1.634042      1.600483e+08  \n",
      "min           0.000000      6.966000e+04  \n",
      "25%           0.062000      2.097088e+06  \n",
      "50%           0.200500      7.739900e+06  \n",
      "75%           0.460000      2.884664e+07  \n",
      "max          57.000000      1.350695e+09  \n"
     ]
    }
   ],
   "source": [
    "# write your code here\n",
    "\n",
    "print(\"Data Types:\\n\", df.dtypes)\n",
    "\n",
    "# 2. Dimensions (rows, columns)\n",
    "print(\"\\nDimensions:\", df.shape)\n",
    "\n",
    "# 3. Summary statistics\n",
    "print(\"\\nSummary Statistics:\\n\", df.describe(include='all'))"
   ]
  },
  {
   "cell_type": "markdown",
   "metadata": {},
   "source": [
    "<table align=\"left\">\n",
    "    <tr>\n",
    "        <td width=\"6%\">\n",
    "            <img src=\"question_icon.png\">\n",
    "        </td>\n",
    "        <td>\n",
    "            <div align=\"left\", style=\"font-size:120%\">\n",
    "                <font color=\"#21618C\">\n",
    "                    <b>3. Drop the variables 'Region', 'Ease of Business', 'Internet Usage'.</b>\n",
    "                </font>\n",
    "            </div>\n",
    "        </td>\n",
    "    </tr>\n",
    "</table>"
   ]
  },
  {
   "cell_type": "code",
   "execution_count": 13,
   "metadata": {},
   "outputs": [
    {
     "data": {
      "text/html": [
       "<div>\n",
       "<style scoped>\n",
       "    .dataframe tbody tr th:only-of-type {\n",
       "        vertical-align: middle;\n",
       "    }\n",
       "\n",
       "    .dataframe tbody tr th {\n",
       "        vertical-align: top;\n",
       "    }\n",
       "\n",
       "    .dataframe thead th {\n",
       "        text-align: right;\n",
       "    }\n",
       "</style>\n",
       "<table border=\"1\" class=\"dataframe\">\n",
       "  <thead>\n",
       "    <tr style=\"text-align: right;\">\n",
       "      <th></th>\n",
       "      <th>CO2 Emissions</th>\n",
       "      <th>Energy Usage</th>\n",
       "      <th>GDP</th>\n",
       "      <th>Population Total</th>\n",
       "    </tr>\n",
       "  </thead>\n",
       "  <tbody>\n",
       "    <tr>\n",
       "      <th>0</th>\n",
       "      <td>4294</td>\n",
       "      <td>1976</td>\n",
       "      <td>5.652325e+09</td>\n",
       "      <td>3033659</td>\n",
       "    </tr>\n",
       "    <tr>\n",
       "      <th>1</th>\n",
       "      <td>4166</td>\n",
       "      <td>2172</td>\n",
       "      <td>7.464447e+09</td>\n",
       "      <td>3014579</td>\n",
       "    </tr>\n",
       "    <tr>\n",
       "      <th>2</th>\n",
       "      <td>4254</td>\n",
       "      <td>2172</td>\n",
       "      <td>8.376484e+09</td>\n",
       "      <td>2992724</td>\n",
       "    </tr>\n",
       "    <tr>\n",
       "      <th>3</th>\n",
       "      <td>3865</td>\n",
       "      <td>2068</td>\n",
       "      <td>9.132562e+09</td>\n",
       "      <td>2968028</td>\n",
       "    </tr>\n",
       "    <tr>\n",
       "      <th>4</th>\n",
       "      <td>4056</td>\n",
       "      <td>2025</td>\n",
       "      <td>1.070101e+10</td>\n",
       "      <td>2940880</td>\n",
       "    </tr>\n",
       "    <tr>\n",
       "      <th>...</th>\n",
       "      <td>...</td>\n",
       "      <td>...</td>\n",
       "      <td>...</td>\n",
       "      <td>...</td>\n",
       "    </tr>\n",
       "    <tr>\n",
       "      <th>1238</th>\n",
       "      <td>2274</td>\n",
       "      <td>7213</td>\n",
       "      <td>7.178556e+09</td>\n",
       "      <td>11470022</td>\n",
       "    </tr>\n",
       "    <tr>\n",
       "      <th>1239</th>\n",
       "      <td>2226</td>\n",
       "      <td>7396</td>\n",
       "      <td>1.070220e+10</td>\n",
       "      <td>11781612</td>\n",
       "    </tr>\n",
       "    <tr>\n",
       "      <th>1240</th>\n",
       "      <td>1654</td>\n",
       "      <td>7399</td>\n",
       "      <td>1.154142e+10</td>\n",
       "      <td>12109620</td>\n",
       "    </tr>\n",
       "    <tr>\n",
       "      <th>1241</th>\n",
       "      <td>1845</td>\n",
       "      <td>7641</td>\n",
       "      <td>1.464079e+10</td>\n",
       "      <td>12456527</td>\n",
       "    </tr>\n",
       "    <tr>\n",
       "      <th>1242</th>\n",
       "      <td>2156</td>\n",
       "      <td>7842</td>\n",
       "      <td>1.280503e+10</td>\n",
       "      <td>12825031</td>\n",
       "    </tr>\n",
       "  </tbody>\n",
       "</table>\n",
       "<p>1243 rows × 4 columns</p>\n",
       "</div>"
      ],
      "text/plain": [
       "      CO2 Emissions  Energy Usage           GDP  Population Total\n",
       "0              4294          1976  5.652325e+09           3033659\n",
       "1              4166          2172  7.464447e+09           3014579\n",
       "2              4254          2172  8.376484e+09           2992724\n",
       "3              3865          2068  9.132562e+09           2968028\n",
       "4              4056          2025  1.070101e+10           2940880\n",
       "...             ...           ...           ...               ...\n",
       "1238           2274          7213  7.178556e+09          11470022\n",
       "1239           2226          7396  1.070220e+10          11781612\n",
       "1240           1654          7399  1.154142e+10          12109620\n",
       "1241           1845          7641  1.464079e+10          12456527\n",
       "1242           2156          7842  1.280503e+10          12825031\n",
       "\n",
       "[1243 rows x 4 columns]"
      ]
     },
     "execution_count": 13,
     "metadata": {},
     "output_type": "execute_result"
    }
   ],
   "source": [
    "# write your code here\n",
    "\n",
    "df_drop = df.drop(['Region' , 'Ease of Business', 'Internet Usage'], axis=1)\n",
    "\n",
    "df_drop"
   ]
  },
  {
   "cell_type": "markdown",
   "metadata": {},
   "source": [
    "<table align=\"left\">\n",
    "    <tr>\n",
    "        <td width=\"6%\">\n",
    "            <img src=\"question_icon.png\">\n",
    "        </td>\n",
    "        <td>\n",
    "            <div align=\"left\", style=\"font-size:120%\">\n",
    "                <font color=\"#21618C\">\n",
    "                    <b>4. Check if there are missing values, if yes then remove the observations with missing values.</b>\n",
    "                </font>\n",
    "            </div>\n",
    "        </td>\n",
    "    </tr>\n",
    "</table>"
   ]
  },
  {
   "cell_type": "code",
   "execution_count": 15,
   "metadata": {},
   "outputs": [
    {
     "data": {
      "text/plain": [
       "CO2 Emissions       0\n",
       "Energy Usage        0\n",
       "GDP                 0\n",
       "Population Total    0\n",
       "dtype: int64"
      ]
     },
     "execution_count": 15,
     "metadata": {},
     "output_type": "execute_result"
    }
   ],
   "source": [
    "# write your code here\n",
    "\n",
    "missing_val = df_drop.isnull().sum()\n",
    "\n",
    "missing_val"
   ]
  },
  {
   "cell_type": "markdown",
   "metadata": {},
   "source": [
    "<table align=\"left\">\n",
    "    <tr>\n",
    "        <td width=\"6%\">\n",
    "            <img src=\"question_icon.png\">\n",
    "        </td>\n",
    "        <td>\n",
    "            <div align=\"left\", style=\"font-size:120%\">\n",
    "                <font color=\"#21618C\">\n",
    "                    <b>5. Check if there are outliers in the data and visualize the outliers using a boxplot.</b>\n",
    "                </font>\n",
    "            </div>\n",
    "        </td>\n",
    "    </tr>\n",
    "</table>"
   ]
  },
  {
   "cell_type": "code",
   "execution_count": 40,
   "metadata": {},
   "outputs": [
    {
     "data": {
      "image/png": "[encoded data removed]",
      "text/plain": [
       "<Figure size 1200x600 with 1 Axes>"
      ]
     },
     "metadata": {},
     "output_type": "display_data"
    }
   ],
   "source": [
    "# write your code here\n",
    "\n",
    "value_columns = ['CO2 Emissions', 'Energy Usage', 'GDP', 'Population Total']\n",
    "\n",
    "for col in value_columns:\n",
    "    Q1 = df_drop[col].quantile(0.25)\n",
    "    Q3 = df_drop[col].quantile(0.75)\n",
    "    IQR = Q3 - Q1\n",
    "    \n",
    "    lower_bound = Q1 - 1.5 * IQR\n",
    "    upper_bound = Q3 + 1.5 * IQR\n",
    "    \n",
    "    outliers = df_drop[(df_drop[col] < lower_bound) | (df_drop[col] > upper_bound)]\n",
    "    \n",
    "\n",
    "plt.figure(figsize=(12, 6))\n",
    "sns.boxplot(data=outliers[value_columns], palette=\"Set3\")\n",
    "plt.title(\"Boxplot of Numerical Features (Outlier Detection)\")\n",
    "plt.xticks(rotation=45)\n",
    "plt.tight_layout()\n",
    "plt.show()\n"
   ]
  },
  {
   "cell_type": "markdown",
   "metadata": {},
   "source": [
    "<table align=\"left\">\n",
    "    <tr>\n",
    "        <td width=\"6%\">\n",
    "            <img src=\"question_icon.png\">\n",
    "        </td>\n",
    "        <td>\n",
    "            <div align=\"left\", style=\"font-size:120%\">\n",
    "                <font color=\"#21618C\">\n",
    "                    <b>6. `Remove the outliers using 3.5IQR and check the shape of the data`.</b>\n",
    "                </font>\n",
    "            </div>\n",
    "        </td>\n",
    "    </tr>\n",
    "</table>"
   ]
  },
  {
   "cell_type": "code",
   "execution_count": 42,
   "metadata": {},
   "outputs": [],
   "source": [
    "# write your code here\n",
    "\n",
    "for col in value_columns:\n",
    "    Q1 = df_drop[col].quantile(0.25)\n",
    "    Q3 = df_drop[col].quantile(0.75)\n",
    "    IQR = Q3 - Q1\n",
    "    \n",
    "    upper_bound = Q3 + 3.5 * IQR\n",
    "    lower_bound = Q1 - 3.5 * IQR\n",
    "    \n",
    "    outliers_IQR = df_drop[(df_drop[col] < lower_bound) | (df_drop[col] > upper_bound)]\n",
    "    "
   ]
  },
  {
   "cell_type": "markdown",
   "metadata": {},
   "source": [
    "<table align=\"left\">\n",
    "    <tr>\n",
    "        <td width=\"6%\">\n",
    "            <img src=\"question_icon.png\">\n",
    "        </td>\n",
    "        <td>\n",
    "            <div align=\"left\", style=\"font-size:120%\">\n",
    "                <font color=\"#21618C\">\n",
    "                    <b>7. Visualize the data obtained after removing the outliers with the help of a boxplot.</b>\n",
    "                </font>\n",
    "            </div>\n",
    "        </td>\n",
    "    </tr>\n",
    "</table>"
   ]
  },
  {
   "cell_type": "code",
   "execution_count": 41,
   "metadata": {},
   "outputs": [
    {
     "data": {
      "image/png": "[encoded data removed]",
      "text/plain": [
       "<Figure size 1200x600 with 1 Axes>"
      ]
     },
     "metadata": {},
     "output_type": "display_data"
    }
   ],
   "source": [
    "# write your code here\n",
    "\n",
    "plt.figure(figsize=(12, 6))\n",
    "sns.boxplot(data=outliers_IQR[value_columns], palette=\"Set3\")\n",
    "plt.title(\"Boxplot of Numerical Features (Outlier Detection)\")\n",
    "plt.xticks(rotation=45)\n",
    "plt.tight_layout()\n",
    "plt.show()"
   ]
  },
  {
   "cell_type": "markdown",
   "metadata": {},
   "source": [
    "<table align=\"left\">\n",
    "    <tr>\n",
    "        <td width=\"6%\">\n",
    "            <img src=\"question_icon.png\">\n",
    "        </td>\n",
    "        <td>\n",
    "            <div align=\"left\", style=\"font-size:120%\">\n",
    "                <font color=\"#21618C\">\n",
    "                    <b>8. Transform the variables in the standard form such that they will have mean 0 and standard deviation 1 and get the summary.</b>\n",
    "                </font>\n",
    "            </div>\n",
    "        </td>\n",
    "    </tr>\n",
    "</table>"
   ]
  },
  {
   "cell_type": "code",
   "execution_count": null,
   "metadata": {},
   "outputs": [
    {
     "name": "stdout",
     "output_type": "stream",
     "text": [
      "       CO2 Emissions  Energy Usage           GDP  Population Total\n",
      "count   1.243000e+03  1.243000e+03  1.243000e+03      1.243000e+03\n",
      "mean    1.143271e-17 -1.429088e-17  5.716353e-18     -2.858177e-18\n",
      "std     1.000402e+00  1.000402e+00  1.000402e+00      1.000402e+00\n",
      "min    -2.465822e-01 -2.785461e-01 -2.601778e-01     -2.816863e-01\n",
      "25%    -2.426005e-01 -2.686034e-01 -2.545659e-01     -2.690136e-01\n",
      "50%    -2.255786e-01 -2.442287e-01 -2.421002e-01     -2.337425e-01\n",
      "75%    -1.481098e-01 -1.494992e-01 -1.299704e-01     -1.018121e-01\n",
      "max     1.052404e+01  9.799787e+00  1.166532e+01      8.160571e+00\n"
     ]
    }
   ],
   "source": [
    "# write your code here\n",
    "\n",
    "from sklearn.preprocessing import StandardScaler\n",
    "value_columns\n",
    "\n",
    "scaler = StandardScaler()\n",
    "df[value_columns] = scaler.fit_transform(df[value_columns])\n",
    "\n",
    "print(df[value_columns].describe())\n"
   ]
  },
  {
   "cell_type": "markdown",
   "metadata": {},
   "source": [
    "<a id=\"hie\"></a>\n",
    "## 2. Hierarchical Clustering"
   ]
  },
  {
   "cell_type": "markdown",
   "metadata": {},
   "source": [
    "<table align=\"left\">\n",
    "    <tr>\n",
    "        <td width=\"6%\">\n",
    "            <img src=\"question_icon.png\">\n",
    "        </td>\n",
    "        <td>\n",
    "            <div align=\"left\", style=\"font-size:120%\">\n",
    "                <font color=\"#21618C\">\n",
    "                    <b>9. Use the 'ward' linkage method and print the first 10 observations of the linkage matrix.</b>\n",
    "                </font>\n",
    "            </div>\n",
    "        </td>\n",
    "    </tr>\n",
    "</table>"
   ]
  },
  {
   "cell_type": "code",
   "execution_count": 49,
   "metadata": {},
   "outputs": [
    {
     "name": "stdout",
     "output_type": "stream",
     "text": [
      "[[4.35000000e+02 4.37000000e+02 2.02745110e-06 2.00000000e+00]\n",
      " [4.46000000e+02 4.47000000e+02 3.48192950e-06 2.00000000e+00]\n",
      " [4.36000000e+02 4.38000000e+02 7.66877345e-06 2.00000000e+00]\n",
      " [3.60000000e+01 3.70000000e+01 8.50419553e-06 2.00000000e+00]\n",
      " [5.58000000e+02 5.59000000e+02 9.40855466e-06 2.00000000e+00]\n",
      " [4.39000000e+02 4.40000000e+02 9.95235202e-06 2.00000000e+00]\n",
      " [2.60000000e+01 2.70000000e+01 1.07790527e-05 2.00000000e+00]\n",
      " [4.44000000e+02 4.45000000e+02 1.17894641e-05 2.00000000e+00]\n",
      " [1.13200000e+03 1.13300000e+03 1.25766302e-05 2.00000000e+00]\n",
      " [9.68000000e+02 9.70000000e+02 1.61735614e-05 2.00000000e+00]]\n"
     ]
    }
   ],
   "source": [
    "# write your code here\n",
    "from scipy.cluster.hierarchy import linkage\n",
    "\n",
    "linkage_matrix = linkage(df[value_columns], method='ward')\n",
    "\n",
    "print(linkage_matrix[:10])"
   ]
  },
  {
   "cell_type": "markdown",
   "metadata": {},
   "source": [
    "<table align=\"left\">\n",
    "    <tr>\n",
    "        <td width=\"6%\">\n",
    "            <img src=\"question_icon.png\">\n",
    "        </td>\n",
    "        <td>\n",
    "            <div align=\"left\", style=\"font-size:120%\">\n",
    "                <font color=\"#21618C\">\n",
    "                    <b>10. Visualize the clusters obtained using dendrogram and find the optimal number of clusters.</b>\n",
    "                </font>\n",
    "            </div>\n",
    "        </td>\n",
    "    </tr>\n",
    "</table>"
   ]
  },
  {
   "cell_type": "code",
   "execution_count": 51,
   "metadata": {},
   "outputs": [
    {
     "data": {
      "image/png": "[encoded data removed]",
      "text/plain": [
       "<Figure size 640x480 with 1 Axes>"
      ]
     },
     "metadata": {},
     "output_type": "display_data"
    }
   ],
   "source": [
    "# write your code here\n",
    "\n",
    "from scipy.cluster.hierarchy import dendrogram\n",
    "\n",
    "plt.Figure(figsize=(12,6))\n",
    "dendrogram(linkage_matrix,\n",
    "           leaf_rotation=90.,\n",
    "           leaf_font_size=12.,\n",
    "           show_contracted=True)\n",
    "\n",
    "plt.title('Hierarchical Clustering Dendrogram (Ward Linkage)')\n",
    "plt.xlabel('Sample Index or Cluster Size')\n",
    "plt.ylabel('Distance')\n",
    "\n",
    "plt.tight_layout()\n",
    "plt.show()"
   ]
  },
  {
   "cell_type": "markdown",
   "metadata": {},
   "source": [
    "<table align=\"left\">\n",
    "    <tr>\n",
    "        <td width=\"6%\">\n",
    "            <img src=\"question_icon.png\">\n",
    "        </td>\n",
    "        <td>\n",
    "            <div align=\"left\", style=\"font-size:120%\">\n",
    "                <font color=\"#21618C\">\n",
    "                    <b>11. Find the cophenetic correlation coefficient and interpret it.</b>\n",
    "                </font>\n",
    "            </div>\n",
    "        </td>\n",
    "    </tr>\n",
    "</table>"
   ]
  },
  {
   "cell_type": "code",
   "execution_count": 52,
   "metadata": {},
   "outputs": [
    {
     "name": "stdout",
     "output_type": "stream",
     "text": [
      "Cophenetic Correlation Coefficient: 0.9112\n"
     ]
    }
   ],
   "source": [
    "# write your code here\n",
    "\n",
    "from scipy.cluster.hierarchy import cophenet\n",
    "from scipy.spatial.distance import pdist\n",
    "\n",
    "# Compute cophenetic correlation coefficient\n",
    "coph_corr, coph_dists = cophenet(linkage_matrix, pdist(df[value_columns]))\n",
    "\n",
    "print(f\"Cophenetic Correlation Coefficient: {coph_corr:.4f}\")"
   ]
  },
  {
   "cell_type": "markdown",
   "metadata": {},
   "source": [
    "<table align=\"left\">\n",
    "    <tr>\n",
    "        <td width=\"6%\">\n",
    "            <img src=\"question_icon.png\">\n",
    "        </td>\n",
    "        <td>\n",
    "            <div align=\"left\", style=\"font-size:120%\">\n",
    "                <font color=\"#21618C\">\n",
    "                    <b>12. Instantiate clustering method with an optimal number of clusters and 'ward' linkage method.</b>\n",
    "                </font>\n",
    "            </div>\n",
    "        </td>\n",
    "    </tr>\n",
    "</table>"
   ]
  },
  {
   "cell_type": "code",
   "execution_count": 54,
   "metadata": {},
   "outputs": [
    {
     "data": {
      "text/plain": [
       "array([1, 1, 1, ..., 1, 1, 1], shape=(1243,))"
      ]
     },
     "execution_count": 54,
     "metadata": {},
     "output_type": "execute_result"
    }
   ],
   "source": [
    "# write your code here\n",
    "\n",
    "from sklearn.cluster import AgglomerativeClustering\n",
    "\n",
    "# Define the optimal number of clusters (you can replace 'n_clusters=3' based on dendrogram)\n",
    "optimal_clusters = 3\n",
    "\n",
    "# Instantiate the clustering model\n",
    "model = AgglomerativeClustering(n_clusters=optimal_clusters, linkage='ward')\n",
    "\n",
    "# Fit the model to the scaled data\n",
    "cluster_labels = model.fit_predict(df[value_columns])\n",
    "\n",
    "cluster_labels\n",
    "\n"
   ]
  },
  {
   "cell_type": "markdown",
   "metadata": {},
   "source": [
    "<table align=\"left\">\n",
    "    <tr>\n",
    "        <td width=\"6%\">\n",
    "            <img src=\"question_icon.png\">\n",
    "        </td>\n",
    "        <td>\n",
    "            <div align=\"left\", style=\"font-size:120%\">\n",
    "                <font color=\"#21618C\">\n",
    "                    <b>13. Obtain the cluster labels and add a column containing the cluster number to the original data.</b>\n",
    "                </font>\n",
    "            </div>\n",
    "        </td>\n",
    "    </tr>\n",
    "</table>"
   ]
  },
  {
   "cell_type": "code",
   "execution_count": 55,
   "metadata": {},
   "outputs": [
    {
     "name": "stdout",
     "output_type": "stream",
     "text": [
      "   CO2 Emissions  Energy Usage           GDP  Population Total  Cluster\n",
      "0           4294          1976  5.652325e+09           3033659        1\n",
      "1           4166          2172  7.464447e+09           3014579        1\n",
      "2           4254          2172  8.376484e+09           2992724        1\n",
      "3           3865          2068  9.132562e+09           2968028        1\n",
      "4           4056          2025  1.070101e+10           2940880        1\n"
     ]
    }
   ],
   "source": [
    "# write your code here\n",
    "# Add the cluster labels to the original DataFrame\n",
    "df_drop['Cluster'] = cluster_labels\n",
    "\n",
    "# Preview the first few rows\n",
    "print(df_drop.head())"
   ]
  },
  {
   "cell_type": "markdown",
   "metadata": {},
   "source": [
    "<table align=\"left\">\n",
    "    <tr>\n",
    "        <td width=\"6%\">\n",
    "            <img src=\"question_icon.png\">\n",
    "        </td>\n",
    "        <td>\n",
    "            <div align=\"left\", style=\"font-size:120%\">\n",
    "                <font color=\"#21618C\">\n",
    "                    <b>14. Find the size of each cluster and plot the count plot for the cluster size.</b>\n",
    "                </font>\n",
    "            </div>\n",
    "        </td>\n",
    "    </tr>\n",
    "</table>"
   ]
  },
  {
   "cell_type": "code",
   "execution_count": 59,
   "metadata": {},
   "outputs": [
    {
     "name": "stdout",
     "output_type": "stream",
     "text": [
      "Cluster Sizes:\n",
      " Cluster\n",
      "0      16\n",
      "1    1214\n",
      "2      13\n",
      "Name: count, dtype: int64\n"
     ]
    },
    {
     "name": "stderr",
     "output_type": "stream",
     "text": [
      "C:\\Users\\spice\\AppData\\Local\\Temp\\ipykernel_14136\\1859182629.py:10: FutureWarning: \n",
      "\n",
      "Passing `palette` without assigning `hue` is deprecated and will be removed in v0.14.0. Assign the `x` variable to `hue` and set `legend=False` for the same effect.\n",
      "\n",
      "  sns.countplot(x='Cluster', data=df_drop, palette='Set2')\n"
     ]
    },
    {
     "data": {
      "image/png": "[encoded data removed]",
      "text/plain": [
       "<Figure size 800x500 with 1 Axes>"
      ]
     },
     "metadata": {},
     "output_type": "display_data"
    }
   ],
   "source": [
    "# write your code here\n",
    "\n",
    "cluster_counts = df_drop['Cluster'].value_counts().sort_index()\n",
    "print(\"Cluster Sizes:\\n\", cluster_counts)\n",
    "\n",
    "import seaborn as sns\n",
    "import matplotlib.pyplot as plt\n",
    "\n",
    "plt.figure(figsize=(8, 5))\n",
    "sns.countplot(x='Cluster', data=df_drop, palette='Set2')\n",
    "\n",
    "plt.title('Number of Observations in Each Cluster')\n",
    "plt.xlabel('Cluster Label')\n",
    "plt.ylabel('Count')\n",
    "plt.show()\n"
   ]
  },
  {
   "cell_type": "markdown",
   "metadata": {},
   "source": [
    "<table align=\"left\">\n",
    "    <tr>\n",
    "        <td width=\"6%\">\n",
    "            <img src=\"question_icon.png\">\n",
    "        </td>\n",
    "        <td>\n",
    "            <div align=\"left\", style=\"font-size:120%\">\n",
    "                <font color=\"#21618C\">\n",
    "                    <b>15. Plot the scatterplot to visualize the clusters using 'CO2 Emissions' and 'Energy Usage'.</b>\n",
    "                </font>\n",
    "            </div>\n",
    "        </td>\n",
    "    </tr>\n",
    "</table>"
   ]
  },
  {
   "cell_type": "code",
   "execution_count": 60,
   "metadata": {},
   "outputs": [
    {
     "data": {
      "image/png": "[encoded data removed]",
      "text/plain": [
       "<Figure size 640x480 with 1 Axes>"
      ]
     },
     "metadata": {},
     "output_type": "display_data"
    }
   ],
   "source": [
    "# write your code here\n",
    "\n",
    "sns.scatterplot(\n",
    "    data=df_drop,\n",
    "    x='CO2 Emissions',\n",
    "    y='Energy Usage',\n",
    "    hue='Cluster',\n",
    "    palette='Set2',\n",
    "    s=100,\n",
    "    edgecolor='black'\n",
    ")\n",
    "\n",
    "plt.title('Clusters Visualized Using CO2 Emissions and Energy Usage')\n",
    "plt.xlabel('CO2 Emissions')\n",
    "plt.ylabel('Energy Usage')\n",
    "plt.legend(title='Cluster')\n",
    "plt.grid(True)\n",
    "plt.tight_layout()\n",
    "plt.show()"
   ]
  },
  {
   "cell_type": "markdown",
   "metadata": {},
   "source": [
    "<table align=\"left\">\n",
    "    <tr>\n",
    "        <td width=\"6%\">\n",
    "            <img src=\"question_icon.png\">\n",
    "        </td>\n",
    "        <td>\n",
    "            <div align=\"left\", style=\"font-size:120%\">\n",
    "                <font color=\"#21618C\">\n",
    "                    <b>16. Obtain the first 10 observations for 1st cluster and find its summary.</b>\n",
    "                </font>\n",
    "            </div>\n",
    "        </td>\n",
    "    </tr>\n",
    "</table>"
   ]
  },
  {
   "cell_type": "code",
   "execution_count": 62,
   "metadata": {},
   "outputs": [
    {
     "name": "stdout",
     "output_type": "stream",
     "text": [
      "   CO2 Emissions  Energy Usage           GDP  Population Total  Cluster\n",
      "0           4294          1976  5.652325e+09           3033659        1\n",
      "1           4166          2172  7.464447e+09           3014579        1\n",
      "2           4254          2172  8.376484e+09           2992724        1\n",
      "3           3865          2068  9.132562e+09           2968028        1\n",
      "4           4056          2025  1.070101e+10           2940880        1\n",
      "5           4129          2061  1.288135e+10           2912559        1\n",
      "6           3880          2068  1.204421e+10           2884303        1\n",
      "7           4283          2059  1.192695e+10           2856673        1\n",
      "8          92533         30698  6.786383e+10          33003442        1\n",
      "9          89493         30974  8.532500e+10          33461345        1\n",
      "Summary statistics for Cluster 1:\n",
      "\n",
      "       CO2 Emissions   Energy Usage           GDP  Population Total  Cluster\n",
      "count   1.214000e+03    1214.000000  1.214000e+03      1.214000e+03   1214.0\n",
      "mean    9.229002e+04   41186.530478  2.214338e+11      2.322916e+07      1.0\n",
      "std     2.053481e+05   86680.193443  5.876268e+11      3.909867e+07      0.0\n",
      "min     4.800000e+01      30.000000  1.232585e+08      6.966000e+04      1.0\n",
      "25%     2.919750e+03    2591.250000  7.476220e+09      2.049066e+06      1.0\n",
      "50%     1.482750e+04    9002.500000  2.355635e+10      7.438942e+06      1.0\n",
      "75%     7.053100e+04   32807.000000  1.630000e+11      2.718225e+07      1.0\n",
      "max     1.740776e+06  730970.000000  5.940000e+12      2.406765e+08      1.0\n"
     ]
    }
   ],
   "source": [
    "# write your code here\n",
    "\n",
    "# Filter rows belonging to Cluster 1\n",
    "cluster_1_data = df_drop[df_drop['Cluster'] == 1]\n",
    "\n",
    "# Display the first 10 observations\n",
    "print(cluster_1_data.head(10))\n",
    "\n",
    "# Get descriptive statistics for Cluster 1\n",
    "cluster_1_summary = cluster_1_data.describe()\n",
    "\n",
    "print(\"Summary statistics for Cluster 1:\\n\")\n",
    "print(cluster_1_summary)\n",
    "\n"
   ]
  },
  {
   "cell_type": "markdown",
   "metadata": {},
   "source": [
    "<table align=\"left\">\n",
    "    <tr>\n",
    "        <td width=\"6%\">\n",
    "            <img src=\"question_icon.png\">\n",
    "        </td>\n",
    "        <td>\n",
    "            <div align=\"left\", style=\"font-size:120%\">\n",
    "                <font color=\"#21618C\">\n",
    "                    <b>17. Obtain the first 10 observations for the 2nd cluster and find its summary.</b>\n",
    "                </font>\n",
    "            </div>\n",
    "        </td>\n",
    "    </tr>\n",
    "</table>"
   ]
  },
  {
   "cell_type": "code",
   "execution_count": 63,
   "metadata": {},
   "outputs": [
    {
     "name": "stdout",
     "output_type": "stream",
     "text": [
      "     CO2 Emissions  Energy Usage           GDP  Population Total  Cluster\n",
      "609        1186663        457198  4.770000e+11        1042261758        2\n",
      "610        1203843        464501  4.940000e+11        1059500888        2\n",
      "611        1226791        477540  5.240000e+11        1076705723        2\n",
      "612        1281914        489507  6.180000e+11        1093786762        2\n",
      "613        1348525        519165  7.220000e+11        1110626108        2\n",
      "614        1411128        539388  8.340000e+11        1127143548        2\n",
      "615        1504365        567182  9.490000e+11        1143289350        2\n",
      "616        1611404        604659  1.240000e+12        1159095250        2\n",
      "617        1811289        632956  1.220000e+12        1174662334        2\n",
      "618        1982263        698360  1.370000e+12        1190138069        2\n",
      "Summary statistics for Cluster 1:\n",
      "\n",
      "       CO2 Emissions   Energy Usage           GDP  Population Total  Cluster\n",
      "count   1.300000e+01      13.000000  1.300000e+01      1.300000e+01     13.0\n",
      "mean    1.584204e+06  590237.923077  1.069077e+12      1.141591e+09      2.0\n",
      "std     3.373145e+05  110592.132532  5.170811e+11      6.291657e+07      0.0\n",
      "min     1.186663e+06  457198.000000  4.770000e+11      1.042262e+09      2.0\n",
      "25%     1.281914e+06  489507.000000  6.180000e+11      1.093787e+09      2.0\n",
      "50%     1.504365e+06  567182.000000  9.490000e+11      1.143289e+09      2.0\n",
      "75%     1.982263e+06  698360.000000  1.370000e+12      1.190138e+09      2.0\n",
      "max     2.008823e+06  749447.000000  1.880000e+12      1.236687e+09      2.0\n"
     ]
    }
   ],
   "source": [
    "# write your code here\n",
    "\n",
    "cluster_1_data = df_drop[df_drop['Cluster'] == 2]\n",
    "\n",
    "# Display the first 10 observations\n",
    "print(cluster_1_data.head(10))\n",
    "\n",
    "# Get descriptive statistics for Cluster 1\n",
    "cluster_1_summary = cluster_1_data.describe()\n",
    "\n",
    "print(\"Summary statistics for Cluster 1:\\n\")\n",
    "print(cluster_1_summary)"
   ]
  },
  {
   "cell_type": "markdown",
   "metadata": {},
   "source": [
    "<a id=\"DBSCAN\"></a>\n",
    "## 3. DBSCAN"
   ]
  },
  {
   "cell_type": "markdown",
   "metadata": {},
   "source": [
    "<table align=\"left\">\n",
    "    <tr>\n",
    "        <td width=\"6%\">\n",
    "            <img src=\"question_icon.png\">\n",
    "        </td>\n",
    "        <td>\n",
    "            <div align=\"left\", style=\"font-size:120%\">\n",
    "                <font color=\"#21618C\">\n",
    "                    <b>18. Perform DBSCAN for the data given using 0.7 as epsilon and 9 minimum samples. Display the unique number of clusters.</b>\n",
    "                </font>\n",
    "            </div>\n",
    "        </td>\n",
    "    </tr>\n",
    "</table>"
   ]
  },
  {
   "cell_type": "code",
   "execution_count": 64,
   "metadata": {},
   "outputs": [
    {
     "name": "stdout",
     "output_type": "stream",
     "text": [
      "Unique cluster labels: [-1  0]\n",
      "Number of clusters (excluding noise): 1\n"
     ]
    }
   ],
   "source": [
    "# write your code here\n",
    "\n",
    "from sklearn.cluster import DBSCAN\n",
    "import numpy as np\n",
    "\n",
    "# Instantiate DBSCAN with given parameters\n",
    "dbscan = DBSCAN(eps=0.7, min_samples=9)\n",
    "\n",
    "# Fit DBSCAN on the scaled data\n",
    "dbscan_labels = dbscan.fit_predict(df[value_columns])\n",
    "\n",
    "# Add DBSCAN labels to the DataFrame (optional)\n",
    "df_drop['DBSCAN_Cluster'] = dbscan_labels\n",
    "\n",
    "# Unique clusters (-1 means noise)\n",
    "unique_clusters = np.unique(dbscan_labels)\n",
    "num_clusters = len(unique_clusters) - (1 if -1 in unique_clusters else 0)\n",
    "\n",
    "print(f\"Unique cluster labels: {unique_clusters}\")\n",
    "print(f\"Number of clusters (excluding noise): {num_clusters}\")\n"
   ]
  },
  {
   "cell_type": "markdown",
   "metadata": {},
   "source": [
    "<table align=\"left\">\n",
    "    <tr>\n",
    "        <td width=\"6%\">\n",
    "            <img src=\"question_icon.png\">\n",
    "        </td>\n",
    "        <td>\n",
    "            <div align=\"left\", style=\"font-size:120%\">\n",
    "                <font color=\"#21618C\">\n",
    "                    <b>19. Check for the size of each cluster and plot the count plot for the cluster size.</b>\n",
    "                </font>\n",
    "            </div>\n",
    "        </td>\n",
    "    </tr>\n",
    "</table>"
   ]
  },
  {
   "cell_type": "code",
   "execution_count": 65,
   "metadata": {},
   "outputs": [
    {
     "name": "stdout",
     "output_type": "stream",
     "text": [
      "Cluster sizes (including noise):\n",
      "DBSCAN_Cluster\n",
      "-1      45\n",
      " 0    1198\n",
      "Name: count, dtype: int64\n"
     ]
    },
    {
     "name": "stderr",
     "output_type": "stream",
     "text": [
      "C:\\Users\\spice\\AppData\\Local\\Temp\\ipykernel_14136\\2123608816.py:8: FutureWarning: \n",
      "\n",
      "Passing `palette` without assigning `hue` is deprecated and will be removed in v0.14.0. Assign the `x` variable to `hue` and set `legend=False` for the same effect.\n",
      "\n",
      "  sns.countplot(x='DBSCAN_Cluster', data=df_drop, palette='Set1')\n"
     ]
    },
    {
     "data": {
      "image/png": "[encoded data removed]",
      "text/plain": [
       "<Figure size 800x500 with 1 Axes>"
      ]
     },
     "metadata": {},
     "output_type": "display_data"
    }
   ],
   "source": [
    "# write your code here\n",
    "\n",
    "cluster_sizes = df_drop['DBSCAN_Cluster'].value_counts().sort_index()\n",
    "print(\"Cluster sizes (including noise):\")\n",
    "print(cluster_sizes)\n",
    "\n",
    "plt.figure(figsize=(8,5))\n",
    "sns.countplot(x='DBSCAN_Cluster', data=df_drop, palette='Set1')\n",
    "\n",
    "plt.title('DBSCAN Cluster Sizes')\n",
    "plt.xlabel('Cluster Label (-1 is noise)')\n",
    "plt.ylabel('Count')\n",
    "plt.show()"
   ]
  },
  {
   "cell_type": "markdown",
   "metadata": {},
   "source": [
    "<table align=\"left\">\n",
    "    <tr>\n",
    "        <td width=\"6%\">\n",
    "            <img src=\"question_icon.png\">\n",
    "        </td>\n",
    "        <td>\n",
    "            <div align=\"left\", style=\"font-size:120%\">\n",
    "                <font color=\"#21618C\">\n",
    "                    <b>20. Describe the outliers identified by the DBSCAN algorithm in the previous question.</b>\n",
    "                </font>\n",
    "            </div>\n",
    "        </td>\n",
    "    </tr>\n",
    "</table>"
   ]
  },
  {
   "cell_type": "code",
   "execution_count": 68,
   "metadata": {},
   "outputs": [
    {
     "name": "stdout",
     "output_type": "stream",
     "text": [
      "Number of outliers detected by DBSCAN: 45\n",
      "     CO2 Emissions  Energy Usage           GDP  Population Total  Cluster  \\\n",
      "318        5790017       1775677  2.260000e+12        1303720000        0   \n",
      "319        6414463       1938944  2.710000e+12        1311020000        0   \n",
      "320        6791805       2044606  3.490000e+12        1317885000        0   \n",
      "321        7035444       2120814  4.520000e+12        1324655000        0   \n",
      "322        7692211       2286137  4.990000e+12        1331260000        0   \n",
      "\n",
      "     DBSCAN_Cluster  \n",
      "318              -1  \n",
      "319              -1  \n",
      "320              -1  \n",
      "321              -1  \n",
      "322              -1  \n",
      "Summary statistics of outliers:\n",
      "       CO2 Emissions  Energy Usage           GDP  Population Total    Cluster  \\\n",
      "count   4.500000e+01  4.500000e+01  4.500000e+01      4.500000e+01  45.000000   \n",
      "mean    3.263231e+06  1.181653e+06  4.945600e+12      6.680892e+08   0.933333   \n",
      "std     2.495366e+06  8.234717e+05  4.990569e+12      5.232036e+08   0.809040   \n",
      "min     1.100650e+06  4.515010e+05  4.770000e+11      1.274505e+08   0.000000   \n",
      "25%     1.281914e+06  5.198070e+05  1.240000e+12      1.423855e+08   0.000000   \n",
      "50%     1.740776e+06  6.983600e+05  2.710000e+12      3.115826e+08   1.000000   \n",
      "75%     5.656839e+06  2.132446e+06  5.930000e+12      1.190138e+09   2.000000   \n",
      "max     8.286892e+06  2.727728e+06  1.620000e+13      1.350695e+09   2.000000   \n",
      "\n",
      "       DBSCAN_Cluster  \n",
      "count            45.0  \n",
      "mean             -1.0  \n",
      "std               0.0  \n",
      "min              -1.0  \n",
      "25%              -1.0  \n",
      "50%              -1.0  \n",
      "75%              -1.0  \n",
      "max              -1.0  \n"
     ]
    }
   ],
   "source": [
    "# write your code here\n",
    "\n",
    "# Filter outliers (noise points) labeled as -1\n",
    "dbscan_outliers = df_drop[df_drop['DBSCAN_Cluster'] == -1]\n",
    "\n",
    "# Number of outliers\n",
    "num_outliers = dbscan_outliers.shape[0]\n",
    "print(f\"Number of outliers detected by DBSCAN: {num_outliers}\")\n",
    "\n",
    "# Preview first few outliers\n",
    "print(dbscan_outliers.head())\n",
    "\n",
    "# Summary statistics of outliers\n",
    "outliers_summary = dbscan_outliers.describe()\n",
    "print(\"Summary statistics of outliers:\")\n",
    "print(outliers_summary)\n"
   ]
  }
 ],
 "metadata": {
  "kernelspec": {
   "display_name": "myvenv",
   "language": "python",
   "name": "python3"
  },
  "language_info": {
   "codemirror_mode": {
    "name": "ipython",
    "version": 3
   },
   "file_extension": ".py",
   "mimetype": "text/x-python",
   "name": "python",
   "nbconvert_exporter": "python",
   "pygments_lexer": "ipython3",
   "version": "3.12.10"
  }
 },
 "nbformat": 4,
 "nbformat_minor": 2
}
