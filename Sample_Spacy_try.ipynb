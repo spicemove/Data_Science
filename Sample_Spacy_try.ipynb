{
 "cells": [
  {
   "cell_type": "code",
   "execution_count": 10,
   "id": "314206de",
   "metadata": {},
   "outputs": [],
   "source": [
    "import spacy\n",
    "from spacy import displacy\n",
    "\n",
    "nlp = spacy.load(\"en_core_web_md\")\n",
    "\n",
    "with open(\"Try_Spacy_text.txt\", 'r') as f:\n",
    "    text = f.read()\n",
    "\n"
   ]
  },
  {
   "cell_type": "code",
   "execution_count": 33,
   "id": "db3f44d0",
   "metadata": {},
   "outputs": [
    {
     "name": "stdout",
     "output_type": "stream",
     "text": [
      "It's a sunny day today.  \n",
      "The dog barks loudly.  \n"
     ]
    }
   ],
   "source": [
    "doc = nlp(text)\n",
    "\n",
    "sen1 = list(doc.sents)[2]\n",
    "sen2 = list(doc.sents)[1]\n",
    "print(sen1)\n",
    "print(sen2)\n"
   ]
  },
  {
   "cell_type": "code",
   "execution_count": 23,
   "id": "377c792c",
   "metadata": {},
   "outputs": [
    {
     "name": "stdout",
     "output_type": "stream",
     "text": [
      "['marching', 'PITS', 'bravely', 'clash', 'VICTORIOUS', 'RACE', 'CHALLENGER', 'Victories', 'Encounters', 'combats']\n"
     ]
    }
   ],
   "source": [
    "import numpy as np\n",
    "\n",
    "ur_word = 'Action'\n",
    "\n",
    "ms = nlp.vocab.vectors.most_similar(np.asarray([nlp.vocab.vectors[nlp.vocab.strings[ur_word]]]), n=10)\n",
    "\n",
    "words = [nlp.vocab.strings[w] for w in ms[0][0]]\n",
    "distances = ms[2]\n",
    "\n",
    "print(words)"
   ]
  },
  {
   "cell_type": "code",
   "execution_count": 34,
   "id": "1f06cf10",
   "metadata": {},
   "outputs": [
    {
     "name": "stdout",
     "output_type": "stream",
     "text": [
      "It's a sunny day today.   ---> The dog barks loudly.   0.6239988803863525\n"
     ]
    }
   ],
   "source": [
    "doc1 = sen1\n",
    "doc2 = sen2\n",
    "print(doc1, '--->', doc2, doc1.similarity(doc2))"
   ]
  },
  {
   "cell_type": "code",
   "execution_count": null,
   "id": "f4006739",
   "metadata": {},
   "outputs": [],
   "source": []
  }
 ],
 "metadata": {
  "kernelspec": {
   "display_name": "myvenv",
   "language": "python",
   "name": "python3"
  },
  "language_info": {
   "codemirror_mode": {
    "name": "ipython",
    "version": 3
   },
   "file_extension": ".py",
   "mimetype": "text/x-python",
   "name": "python",
   "nbconvert_exporter": "python",
   "pygments_lexer": "ipython3",
   "version": "3.12.10"
  }
 },
 "nbformat": 4,
 "nbformat_minor": 5
}
