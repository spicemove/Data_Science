{
 "cells": [
  {
   "cell_type": "code",
   "execution_count": 3,
   "id": "d2c2eeb5",
   "metadata": {},
   "outputs": [
    {
     "name": "stdout",
     "output_type": "stream",
     "text": [
      "Emails found: ['awdesh@inficaretech.com', 'msubramani@v2soft.com', 'nilesh.jha@talentburst.com', 'bala@fisecglobal.net', 'devesh.srivastava@cerebra-consulting.com', 'simranjeet@tanishasystems.com', 'vijay.d@net2source.com', 'nishtha.tongaria@nlbtech.com', 'ayushi.singh@artech.com', 'arshad@net2source.com', 'prakash.r@objectwin.com', 'balaji.v@vdartinc.com', 'sarath.varma@lancesoft.com', 'sateesh.podishetty@axelon.com', 'bharath@datawavetechnologies.com', 'sumit.k@resource-logistics.com', 'tirumala.teela@denkensolutions.com', 'khurshid@infinitysts.com', 'pradeep@proit-inc.com', 'adua@bayonesolutions.com', 'rohits@usgrpinc.com', 'bangi.akhil@cerebra-consulting.com', 'syed.abbas@maxeleven.com', 'adam@falconpls.com', 'pankajs@ca-one.com', 'john.bommineni@axelon.com', 'jyoti.m@cynetsystems.com', 'jpeter@waynsys.com', 'aditya@galaxyinfotechinc.com', 'relangiprasanna@tanuinfotech.com', 'ankit@infinitysts.com', 'ripudaman.singh@harveynash.com', 'rahul.kumar1@artech.com', 'anusha.r@avanceservices.us', 'msafeek@eteaminc.com', 'mike@georgiait.com', 'pawan@smartitframe.com', 'sharora@eteaminc.com', 'paradoxicolness@techdigitalcorp.com', 'abhishek.singh@agreeya.com', 'harshini.p@tricascadetech.com', 'ashkaran.pandey@agreeya.com', 'sarveshwara.2134692@infosys.com', 'svivek@smartitframe.com', 'noor@emonics.com', 'arshath.khan@siriinfo.com', 'alamgir.a@smarttechlink.com', 'dipanjan.d@infojiniconsulting.com', 'vijoshi@eteaminc.com', 'vupadhyay01@judge.com', 'apeksha.pawar@bravensinc.com', 'mona.kushwaha@disys.com', 'stephen.m@vdartinc.com', 'ariz.khan@systemone.com', 'ajit.s@infojiniconsulting.com', 'sunil.kuppli@avanceservices.us', 'mohit@maintec.com', 'vipul.sinha@pyramidci.com', 'ragav@realtekconsulting.net', 'aniesh.vardhan@gmail.com', 'tanyaa@infinitysts.com', 'praveenkumar.a@acldigital.com', 'gowri@javentechnologies.com', 'deepak.kumar2@innovasolutions.com', 'vipinc@caspex.com', 'arun@vfusioninnovations.com', 'priyanka.jath@agreeya.com', 'naman.gupta@nlbtech.com', 'kawaljeet@galaxyinfotechinc.com', 'meenakshi@evolutyz.com', 'shiva.b@hexaquestglobal.com', 'nkumar@tekintegral.com', 'ashish.awasthi@samsonsoft.com', 'vinay.kumar@luitporia.com', 'suprati@valiant-iq.com', 'gporipireddi@miraclesoft.com', 'hemant.singh1@pyramidci.com', 'vishal.nair@bravensinc.com', 'sanjay.gupta@diverselynx.com', 'anusha.b@tachyontech.com', 'aziz@ztekinc.com', 'swati@siriinfo.com', 'deepak.sharma@tanishasystems.com', 'raj@siriinfo.com', 'manikandan.solan@vdartinc.com', 'abhay.sharma@agreeya.com', 'sahab.shahi@siriinfo.com', 'caylin.zirzow@ey.com', 'rahul.g@i3infotek.com', 'jwilliams@iriscc.com', 'djones@iriscc.com', 'sourabh@linktms.com', 'manish.jhod@nytpcorp.com', 'josh.wallenfelsz@sigconsult.com', 'sandersen@spyglasscorp.com', 'abhijit.s@t3pillars.com', 'savita@tek-staffing.com', 'dlehman@columbianyc.com', 'pallavi.tallapalli@randstadusa.com', 'atatiparti@lenmarit.com', 'sparihar@jsrtechconsulting.com', 'rkancharla@sageitinc.net', 'mbascio@kforce.com', 'vswamii@clifyx.com', 'ronnie@corpbizsolutions.com', 'andy@talentgroups.com', 'tipu@talentgroups.com', 'rahaman.shaik@innovasolutions.com', 'stellent_submissions@ceipalsubsrouting.com', 'dpratap@megansoft.com', 'ggopan@macrosoftinc.com', 'abhinav@extendinfosys.com', 'contracts@solutionit.com', 'mythili@dornantech.com', 'anitha.mudavath@randstadusa.com', 'sudheer.dasari@sstech.us', 'pooja.kumari@recruiter.nlbtech.com', 'muthu@datacaliper.com', 'khairul@inasolution.com', 'sushil.s@accurogroup.com', 'aravind.v@softstandard.com', 'phani@iflowonline.com']\n",
      "Numbers found: ['469', '310', '0887', '925', '399', '7040', '703', '652', '7833', '248', '239', '8053', '415', '523', '8566', '925', '597', '6017', '212', '729', '6543', '606', '201', '877', '9329', '905', '678', '889', '8748', '609', '212', '1905', '904', '506', '4198', '608', '646', '8326', '973', '933', '4929', '201', '633', '2124', '213', '992', '9286', '678', '720', '2482', '703', '936', '5008', '212', '488', '5346', '973', '695', '1097', '732', '839', '0762', '949', '503', '8928', '203', '446', '3825', '636', '265', '6769', '916.673', '1445', '925', '307', '7138', '904', '533', '4323', '201', '255', '4223', '8148312414', '510', '989', '3830', '609', '766', '9598', '832', '532', '1147', '336', '863', '1836', '6149532778', '470', '532', '1000', '212', '488', '7473', '571', '302', '4048', '732', '553', '0566', '165', '216', '329', '4156', '848', '209', '8317', '571.307', '7113', '510.543', '1139', '860', '697', '7346', '2134692', '647', '498', '3420', '216', '306', '1025', '512', '877', '9980', '908', '628', '0257', '478', '341', '4586', '646', '688', '3169', '609', '385', '7004', '973', '933', '4695', '732', '226', '8073', '212', '729', '6543', '732', '476', '6330', '404', '940', '1155', '212', '729', '6543', '201', '366', '1112', '732', '537', '8923', '212', '729', '6543', '212', '729', '6543', '952', '521', '3779', '916', '673', '1549', '916', '673', '1454', '956', '261', '5100', '848', '455', '4526', '732', '629', '5586', '848', '800', '8155', '424', '334', '8444', '212', '729', '6543', '575', '201', '987', '0181', '908', '883', '4438', '212', '729', '6543', '678', '212', '729', '6543', '782', '212', '729', '6543', '629', '610', '979', '9440', '353', '646', '688', '3169', '703', '940', '5167', '652', '9723571090', '470', '752', '2554', '4129430124', '201', '987', '0126', '732', '226', '8073', '559', '413', '4325', '770', '255', '7643', '7643', '201', '942', '1942', '609', '447', '3341', '289', '514', '1379', '925', '399', '7772', '669', '288', '5976', '510', '989', '3839', '678', '918', '9867', '469', '300', '6269', '916', '358', '7129', '904', '344', '326', '510', '556', '8238', '571', '307', '6478', '216', '925', '2235', '832', '497', '2869', '469', '300', '6269', '214', '432', '9964', '609', '928', '8934', '609', '551', '0841', '470', '571', '3406', '732', '481', '2938', '212', '488', '7473', '212', '306', '0191', '217', '296', '7483', '302', '482', '3672', '2484120408', '7675801013', '678', '918', '9803', '243', '404', '315', '1555', '499', '201', '987', '0126', '732', '479', '5447', '212', '729', '6543', '639', '571', '481', '2463', '770', '255', '7699', '703', '349', '2737', '653', '732', '452', '1006', '317', '469', '663', '5889', '149', '678', '749', '7765', '732', '422', '5556']\n"
     ]
    }
   ],
   "source": [
    "import re\n",
    "\n",
    "def extract_emails_and_numbers_from_file(file_path):\n",
    "    with open(file_path, 'r', encoding='utf-8') as file:\n",
    "        text = file.read()\n",
    "\n",
    "    # Optional: remove commas from numbers like 10,000\n",
    "    text = text.replace(\",\", \"\")\n",
    "\n",
    "    # Regex for emails\n",
    "    email_pattern = r'[a-zA-Z0-9._%+-]+@[a-zA-Z0-9.-]+\\.[a-zA-Z]{2,}'\n",
    "    # Regex for integers and decimal numbers\n",
    "    number_pattern = r'\\b\\d+(?:\\.\\d+)?\\b'\n",
    "\n",
    "    emails = re.findall(email_pattern, text)\n",
    "    numbers = re.findall(number_pattern, text)\n",
    "\n",
    "    return emails, numbers\n",
    "\n",
    "# Example usage\n",
    "file_path = 'Emails.txt'  # Replace with your file path\n",
    "emails, numbers = extract_emails_and_numbers_from_file(file_path)\n",
    "\n",
    "print(\"Emails found:\", emails)\n",
    "print(\"Numbers found:\", numbers)\n"
   ]
  },
  {
   "cell_type": "code",
   "execution_count": 6,
   "id": "bbd2ec2d",
   "metadata": {},
   "outputs": [
    {
     "data": {
      "text/html": [
       "<div>\n",
       "<style scoped>\n",
       "    .dataframe tbody tr th:only-of-type {\n",
       "        vertical-align: middle;\n",
       "    }\n",
       "\n",
       "    .dataframe tbody tr th {\n",
       "        vertical-align: top;\n",
       "    }\n",
       "\n",
       "    .dataframe thead th {\n",
       "        text-align: right;\n",
       "    }\n",
       "</style>\n",
       "<table border=\"1\" class=\"dataframe\">\n",
       "  <thead>\n",
       "    <tr style=\"text-align: right;\">\n",
       "      <th></th>\n",
       "      <th>email</th>\n",
       "    </tr>\n",
       "  </thead>\n",
       "  <tbody>\n",
       "    <tr>\n",
       "      <th>0</th>\n",
       "      <td>awdesh@inficaretech.com</td>\n",
       "    </tr>\n",
       "    <tr>\n",
       "      <th>1</th>\n",
       "      <td>msubramani@v2soft.com</td>\n",
       "    </tr>\n",
       "    <tr>\n",
       "      <th>2</th>\n",
       "      <td>nilesh.jha@talentburst.com</td>\n",
       "    </tr>\n",
       "    <tr>\n",
       "      <th>3</th>\n",
       "      <td>bala@fisecglobal.net</td>\n",
       "    </tr>\n",
       "    <tr>\n",
       "      <th>4</th>\n",
       "      <td>devesh.srivastava@cerebra-consulting.com</td>\n",
       "    </tr>\n",
       "    <tr>\n",
       "      <th>...</th>\n",
       "      <td>...</td>\n",
       "    </tr>\n",
       "    <tr>\n",
       "      <th>117</th>\n",
       "      <td>muthu@datacaliper.com</td>\n",
       "    </tr>\n",
       "    <tr>\n",
       "      <th>118</th>\n",
       "      <td>khairul@inasolution.com</td>\n",
       "    </tr>\n",
       "    <tr>\n",
       "      <th>119</th>\n",
       "      <td>sushil.s@accurogroup.com</td>\n",
       "    </tr>\n",
       "    <tr>\n",
       "      <th>120</th>\n",
       "      <td>aravind.v@softstandard.com</td>\n",
       "    </tr>\n",
       "    <tr>\n",
       "      <th>121</th>\n",
       "      <td>phani@iflowonline.com</td>\n",
       "    </tr>\n",
       "  </tbody>\n",
       "</table>\n",
       "<p>122 rows × 1 columns</p>\n",
       "</div>"
      ],
      "text/plain": [
       "                                        email\n",
       "0                     awdesh@inficaretech.com\n",
       "1                       msubramani@v2soft.com\n",
       "2                  nilesh.jha@talentburst.com\n",
       "3                        bala@fisecglobal.net\n",
       "4    devesh.srivastava@cerebra-consulting.com\n",
       "..                                        ...\n",
       "117                     muthu@datacaliper.com\n",
       "118                   khairul@inasolution.com\n",
       "119                  sushil.s@accurogroup.com\n",
       "120                aravind.v@softstandard.com\n",
       "121                     phani@iflowonline.com\n",
       "\n",
       "[122 rows x 1 columns]"
      ]
     },
     "execution_count": 6,
     "metadata": {},
     "output_type": "execute_result"
    }
   ],
   "source": [
    "import pandas as pd\n",
    "\n",
    "email_df = pd.DataFrame(emails, columns=['email'])\n",
    "\n",
    "email_df"
   ]
  },
  {
   "cell_type": "code",
   "execution_count": 7,
   "id": "e145828b",
   "metadata": {},
   "outputs": [],
   "source": [
    "email_df.to_csv('emails_extracted.csv', index=False)\n"
   ]
  },
  {
   "cell_type": "code",
   "execution_count": null,
   "id": "d097023b",
   "metadata": {},
   "outputs": [],
   "source": []
  }
 ],
 "metadata": {
  "kernelspec": {
   "display_name": "myvenv",
   "language": "python",
   "name": "python3"
  },
  "language_info": {
   "codemirror_mode": {
    "name": "ipython",
    "version": 3
   },
   "file_extension": ".py",
   "mimetype": "text/x-python",
   "name": "python",
   "nbconvert_exporter": "python",
   "pygments_lexer": "ipython3",
   "version": "3.12.10"
  }
 },
 "nbformat": 4,
 "nbformat_minor": 5
}
